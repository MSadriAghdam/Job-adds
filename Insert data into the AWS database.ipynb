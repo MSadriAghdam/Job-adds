{
 "cells": [
  {
   "cell_type": "code",
   "execution_count": 6,
   "metadata": {},
   "outputs": [],
   "source": [
    "import psycopg2\n",
    "import pandas as pd\n",
    "import csv"
   ]
  },
  {
   "cell_type": "code",
   "execution_count": 7,
   "metadata": {},
   "outputs": [],
   "source": [
    "## reading the CSV file\n",
    "\n",
    "DF=pd.read_csv(\"Desktop/Job_Add.csv\",encoding='cp1252')\n",
    "column_name=list(DF.keys())\n",
    "#print(column_name)"
   ]
  },
  {
   "cell_type": "code",
   "execution_count": 8,
   "metadata": {},
   "outputs": [
    {
     "name": "stdout",
     "output_type": "stream",
     "text": [
      "Database opened successfully\n"
     ]
    }
   ],
   "source": [
    "##Connecting to Postgres Database\n",
    "\n",
    "secret= '7D89x8zo'\n",
    "import psycopg2 as pg2\n",
    "conn = pg2.connect(database='postgres', user = 'postgres', password=secret, host=\"test-db.cvvgqompnycg.eu-central-1.rds.amazonaws.com\",)\n",
    "print(\"Database opened successfully\")\n",
    "cursor = conn.cursor()"
   ]
  },
  {
   "cell_type": "code",
   "execution_count": 9,
   "metadata": {},
   "outputs": [
    {
     "name": "stdout",
     "output_type": "stream",
     "text": [
      "Table created successfully........\n"
     ]
    }
   ],
   "source": [
    "##Creating the table according to the csv file\n",
    "\n",
    "\n",
    "sql ='''CREATE TABLE job_add(\n",
    "   timestamp DATE,\n",
    "   source TEXT,\n",
    "   header TEXT,\n",
    "   content TEXT,\n",
    "   language TEXT,\n",
    "   employment_type  TEXT,\n",
    "   poster  TEXT\n",
    ")'''\n",
    "cursor.execute(sql)\n",
    "print(\"Table created successfully........\")\n",
    "conn.commit()"
   ]
  },
  {
   "cell_type": "code",
   "execution_count": 10,
   "metadata": {},
   "outputs": [
    {
     "name": "stdout",
     "output_type": "stream",
     "text": [
      "Data inserted into the database successfully\n"
     ]
    }
   ],
   "source": [
    "##Insert data into the tbale using copy command\n",
    "  \n",
    "with open(\"Desktop/Job_Add.csv\", \"r\") as f:\n",
    "    cursor.copy_expert(\"COPY Job_Add FROM STDIN WITH CSV HEADER;\", f) \n",
    "print(\"Data inserted into the database successfully\")\n",
    "conn.commit()\n",
    "cursor.close()\n",
    "conn.close()"
   ]
  }
 ],
 "metadata": {
  "kernelspec": {
   "display_name": "Python 3",
   "language": "python",
   "name": "python3"
  },
  "language_info": {
   "codemirror_mode": {
    "name": "ipython",
    "version": 3
   },
   "file_extension": ".py",
   "mimetype": "text/x-python",
   "name": "python",
   "nbconvert_exporter": "python",
   "pygments_lexer": "ipython3",
   "version": "3.7.1"
  }
 },
 "nbformat": 4,
 "nbformat_minor": 2
}
